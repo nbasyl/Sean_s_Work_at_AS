{
 "cells": [
  {
   "cell_type": "code",
   "execution_count": 2,
   "source": [
    "import sys\n",
    "import json\n",
    "import re\n",
    "import pandas as pd\n",
    "from collections import defaultdict, Counter\n",
    "from math import log\n",
    "from random import shuffle\n",
    "import csv\n",
    "import multiprocessing\n",
    "from multiprocessing import Pool\n",
    "import numpy as np\n",
    "import pickle\n",
    "\n",
    "\n",
    "\n",
    "import os\n",
    "\n"
   ],
   "outputs": [
    {
     "output_type": "stream",
     "name": "stdout",
     "text": [
      "The history saving thread hit an unexpected error (OperationalError('disk I/O error')).History will not be written to the database.\n"
     ]
    }
   ],
   "metadata": {}
  },
  {
   "cell_type": "code",
   "execution_count": 3,
   "source": [
    "play_df = pd.read_csv('/home/syliu/AIR/Data/kk_Data/air_different_interaction_input/kk_vod_play_filtered.txt', delimiter = \"\\t\", header = None, names=['user','item','rating'])\n",
    "click_df = pd.read_csv('/home/syliu/AIR/Data/kk_Data/air_different_interaction_input/kk_vod_click_filtered.txt', delimiter = \"\\t\", header = None, names=['user','item','rating'])\n",
    "search_df = pd.read_csv('/home/syliu/AIR/Data/kk_Data/air_different_interaction_input/kk_vod_search_filtered.txt', delimiter = \"\\t\", header = None, names=['user','item','rating'])\n",
    "purchase_df = pd.read_csv('/home/syliu/AIR/Data/kk_Data/air_different_interaction_input/kk_vod_purchase_filtered.txt', delimiter = \"\\t\", header = None, names=['user','item','rating'])"
   ],
   "outputs": [],
   "metadata": {}
  },
  {
   "cell_type": "code",
   "execution_count": 7,
   "source": [
    "play_df['rating'] = 5\n",
    "click_df['rating'] = 4\n",
    "search_df['rating'] = 3\n",
    "purchase_df['rating'] = 2"
   ],
   "outputs": [],
   "metadata": {}
  },
  {
   "cell_type": "code",
   "execution_count": 8,
   "source": [
    "pd.concat([play_df,click_df,search_df,purchase_df]).to_csv('/home/syliu/AIR/Data/kk_Data/kk_vod_2_ratings.txt', header=False, sep='\\t') \n",
    "\n"
   ],
   "outputs": [],
   "metadata": {}
  },
  {
   "cell_type": "code",
   "execution_count": null,
   "source": [],
   "outputs": [],
   "metadata": {}
  }
 ],
 "metadata": {
  "orig_nbformat": 4,
  "language_info": {
   "name": "python",
   "version": "3.8.10",
   "mimetype": "text/x-python",
   "codemirror_mode": {
    "name": "ipython",
    "version": 3
   },
   "pygments_lexer": "ipython3",
   "nbconvert_exporter": "python",
   "file_extension": ".py"
  },
  "kernelspec": {
   "name": "python3",
   "display_name": "Python 3.8.10 64-bit"
  },
  "interpreter": {
   "hash": "31f2aee4e71d21fbe5cf8b01ff0e069b9275f58929596ceb00d14d90e3e16cd6"
  }
 },
 "nbformat": 4,
 "nbformat_minor": 2
}